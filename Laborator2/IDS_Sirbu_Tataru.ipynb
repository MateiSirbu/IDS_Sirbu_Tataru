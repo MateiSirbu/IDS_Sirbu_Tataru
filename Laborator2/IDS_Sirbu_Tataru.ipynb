{
 "cells": [
  {
   "cell_type": "markdown",
   "metadata": {},
   "source": [
    "# Introducere în Data Science: Laboratorul 2\n",
    "([https://github.com/MateiSirbu/IDS_Sirbu_Tataru/tree/master/Laborator2](https://github.com/MateiSirbu/IDS_Sirbu_Tataru/tree/master/Laborator2))<br><br>\n",
    "Sîrbu Matei Dan, _grupa 10LF383_<br>\n",
    "Tătaru Dragoș Cătălin, _grupa 10LF383_"
   ]
  },
  {
   "cell_type": "markdown",
   "metadata": {},
   "source": [
    "1. (0.5 puncte) Pentru un vector NumPy dat, sa se determine care sunt elementele unice, in ordine descrescatoare. Exemplu: pentru `x = np.array([-4, 3,  5, 3, 2, 1, -3, -4, 2, -4])` functia scrisa de dvs va intoarce rezultatul `[ 5,  3,  2,  1, -3, -4]`.\n",
    "2. (0.5 puncte) Pentru un vector NumPy dat, sa se determine care e elementul cel mai frecvent si cel mai putin frecvent (tuplu de 2 valori). Daca exista mai multe numere cele mai frecvente (cele mai putin frecvente), se va raporta oricare din ele. Exemplu: pentru `x = np.array([-4, 3,  5, 3, 2, 1, -3, -4, 2, -4])` functia scrisa de dvs va intoarce rezultatul `(-4, -3)`. \n",
    "3. (0.5 puncte) Plecand de la o matrice, sa se scrie o functie care returneaza vectorul minimelor de pe linii si vectorul maximelor de pe coloane. Exemplu: pentru matricea `mat = np.array([[1, 2, 3, 4], [1, -2, 3, -4], [3, 10, 3, 4]])` functia va returna tuplul de vectori: `(array([ 1, -4,  3]), array([ 3, 10,  3,  4]))`. Indicatie:  folositi-va de parametrul `axis`.\n",
    "4. (0.5 puncte) Pentru o matrice de numere, sa se determine produsul elementelor pe linii sau de pe coloane, in functie de valoarea unui parametru boolean `compute_on_lines`. Exemplu: pentru matricea `mat = np.array([[1, 2, 3, 4], [1, -2, 3, -4], [3, 10, 3, 4]])` si parametrul `compute_on_lines=True`, functia va returna vectorul `[ 24  24 360]`, iar pentru `compute_on_lines=False` se va returna `[  3 -40  27 -64]`.\n",
    "5. (0.5 puncte) Determinati daca macar unul din elementele unei matrice `a` este mai mare decat cel de pe pozitie corespondenta din `b` (adica daca avem macar o pereche de indecsi (i, j) pentru care a[i, j] > b[i, j]). Daca da, se va returna o astfel de pereche de indecsi; daca nu, se va returna None.\n",
    "6. (0.5 puncte) Construiti o functie care, primind o matrice, determina pe ce pozitii se afla valorile in afara unui interval [min, max] dat prin parametri.\n",
    "7. (1 punct) Se considera vectorul: `a = np.array([230, 10, 284, 39, 76])`. Folosind indexarea logica, sa se inmulteasca elementele din vector care sunt mai mici ca 100 cu 2 (restul raman neschimbate). Folosind ciclare, sa se aplice aceeasi operatie pana cand toate elementele devin mai mari ca 100. Sa se afiseze din vectorul final elementele care sunt mai mari de 150 si mai mici de 200.\n",
    "8. (1 punct) Sa se scrie o functie `pair_max` care preia doi vectori de aceeasi lungime si returneaza maximele pe pozitiile corespunzatoare:\n",
    "```python\n",
    "a = np.array([3, 7, 9, 13, -10, 200, 3])\n",
    "b = np.array([4, 5, -9, 100, 300, 230, 1])\n",
    "pair_max(a, b)\n",
    "#iesire dorita: \n",
    "array([  4,   7,   9, 100, 300, 230,   3])\n",
    "```. Functia va verifica cu `assert` ca vectorii au lungimi egale. \n",
    "9. (1 punct) Descarcati setul de date Iris de la adresa 'https://archive.ics.uci.edu/ml/machine-learning-databases/iris/iris.data', si incarcati-l intr--o matrice NumPy, folosind `np.genfromtxt`.  Alegeti aleator 10 pozitii in matricea de 150 linii si 4 coloane (omiteti ultima coloana, de tip text), setati aceste valori pe NaN. Construiti o functie care, primind la intrare o matrice, returneaza un tuplu cu indicii de linii respectiv de coloane in care se gasesc valori NaN.\n",
    "10. (1 punct) Sa se construiasca o functie care returneaza cele mai mici `k` valori dintr-un vector de cel putin `k` elemente, impreuna cu pozitiile lor. "
   ]
  },
  {
   "cell_type": "markdown",
   "metadata": {},
   "source": [
    "Exercițiul 1"
   ]
  },
  {
   "cell_type": "code",
   "execution_count": 6,
   "metadata": {},
   "outputs": [
    {
     "name": "stdout",
     "output_type": "stream",
     "text": [
      "Result:  [ 5  3  2  1 -3 -4]\n"
     ]
    }
   ],
   "source": [
    "import numpy as np\n",
    "\n",
    "def getUnique(x: np.array) -> np.array:\n",
    "    \"\"\"Determină elementele unice dintr-un numpy.array, în ordine descrescătoare.\n",
    "\n",
    "    Parameters\n",
    "    ----------\n",
    "    x : np.array\n",
    "        Vectorul analizat. \n",
    "  \n",
    "    Returns\n",
    "    -------\n",
    "    np.array\n",
    "        Elementele unice din vectorul analizat, sortate descrescător. \n",
    "\n",
    "    \"\"\"\n",
    "    result = np.unique(x)\n",
    "    result = np.sort(result)[::-1]\n",
    "    return result\n",
    "\n",
    "if __name__ == \"__main__\":\n",
    "    x = np.array([-4, 3, 5, 3, 2, 1, -3, -4, 2, -4])\n",
    "    result = getUnique(x)\n",
    "    print(\"Result: \", result)"
   ]
  },
  {
   "cell_type": "markdown",
   "metadata": {},
   "source": [
    "Exercițiul 2"
   ]
  },
  {
   "cell_type": "code",
   "execution_count": 7,
   "metadata": {},
   "outputs": [
    {
     "name": "stdout",
     "output_type": "stream",
     "text": [
      "Most frequent item:  -4\n",
      "Most infrequent item:  5\n"
     ]
    }
   ],
   "source": [
    "import numpy as np\n",
    "\n",
    "def getFreqInfreq(x: np.array) -> tuple:\n",
    "    \"\"\"\n",
    "    Determină cel mai frecvent și cel mai puțin frecvent element dintr-un numpy.array.\n",
    "\n",
    "    Parameters\n",
    "    ----------\n",
    "    x : np.array\n",
    "        Vectorul analizat.\n",
    "\n",
    "    Returns\n",
    "    -------\n",
    "    tuple\n",
    "        Tuplu de două valori: cel mai frecvent și cel mai puțin frecvent element.\n",
    "\n",
    "    \"\"\"\n",
    "    xUnique, counts = np.unique(x, return_counts=True)\n",
    "    countsDescIndices = np.argsort(-counts)\n",
    "    return xUnique[countsDescIndices[0]], xUnique[countsDescIndices[-1]]\n",
    "\n",
    "if __name__ == \"__main__\":\n",
    "    x = np.array([-4, 3, 5, 3, 2, 1, -3, -4, 2, -4])\n",
    "    freq, infreq = getFreqInfreq(x)\n",
    "    print(\"Most frequent item: \", freq)\n",
    "    print(\"Most infrequent item: \", infreq)"
   ]
  },
  {
   "cell_type": "markdown",
   "metadata": {},
   "source": [
    "Exercițiul 3"
   ]
  },
  {
   "cell_type": "code",
   "execution_count": 14,
   "metadata": {},
   "outputs": [
    {
     "name": "stdout",
     "output_type": "stream",
     "text": [
      "[[ 1 -4  3]] [[ 3 10  3  4]]\n"
     ]
    }
   ],
   "source": [
    "import numpy as np\n",
    "\n",
    "def MinrowMaxcol(*matrice:np.array) -> tuple:\n",
    "    '''\n",
    "    MinrowMaxCol determina minimul pe randuri, maximul pe coloane\n",
    "    \n",
    "    Parametrii \n",
    "    --------\n",
    "    matrice:np.array\n",
    "        matricea analizata\n",
    "\n",
    "    Returneaza\n",
    "    --------\n",
    "    tuple:\n",
    "        format din doua matrici\n",
    "    '''\n",
    "\n",
    "    minRow = np.min(matrice,axis=2)\n",
    "    maxCol = np.max(matrice, axis=1)\n",
    "    return minRow,maxCol\n",
    "\n",
    "array =np.array([[1,2,3,4],\n",
    "                [1,-2,3,-4],\n",
    "                [3,10,3,4]])\n",
    "arrayRowMin, arrayColMax = MinrowMaxcol(array)\n",
    "print(arrayRowMin,arrayColMax)"
   ]
  },
  {
   "cell_type": "markdown",
   "metadata": {},
   "source": [
    "Exercițiul 4"
   ]
  },
  {
   "cell_type": "code",
   "execution_count": 8,
   "metadata": {},
   "outputs": [
    {
     "name": "stdout",
     "output_type": "stream",
     "text": [
      "[  3 -40  27 -64]\n"
     ]
    }
   ],
   "source": [
    "import numpy as np\n",
    "\n",
    "def product(mat:np.array, compute_on_lines:bool) -> np.array:\n",
    "    \"\"\"\n",
    "    Determină produsul elementelor de pe liniile unei matrice (compute_on_lines = True).\n",
    "    Altfel, produsul elementelor de pe coloane.\n",
    "\n",
    "    Parameters\n",
    "    ----------\n",
    "    mat : np.array\n",
    "        Matricea analizată.\n",
    "\n",
    "    Returns\n",
    "    -------\n",
    "    np.array\n",
    "        Vectorul de produse.\n",
    "    \"\"\"\n",
    "    return np.product(mat, int(compute_on_lines)) # False = 0, True = 1\n",
    "\n",
    "if __name__ == \"__main__\":\n",
    "    mat = [[1, 2, 3, 4],\n",
    "           [1, -2, 3, -4],\n",
    "           [3, 10, 3, 4]]\n",
    "    compute_on_lines = False\n",
    "    products = product(mat, compute_on_lines)\n",
    "    print(products)"
   ]
  },
  {
   "cell_type": "markdown",
   "metadata": {},
   "source": [
    "Exercițiul 5"
   ]
  },
  {
   "cell_type": "code",
   "execution_count": 9,
   "metadata": {},
   "outputs": [
    {
     "name": "stdout",
     "output_type": "stream",
     "text": [
      "(2, 1)\n"
     ]
    }
   ],
   "source": [
    "import numpy as np\n",
    "\n",
    "def indices(a:np.array, b:np.array) -> tuple:\n",
    "    \"\"\"\n",
    "    Identifică o pereche de indici i, j pentru care a[i][j] > b[i][j].\n",
    "\n",
    "    Parameters\n",
    "    ----------\n",
    "    a : np.array, b : np.array\n",
    "        Cele două matrici ale căror elemente se vor compara.\n",
    "\n",
    "    Returns\n",
    "    -------\n",
    "    tuple:\n",
    "        O pereche de indici (dacă există una). Altfel, None.\n",
    "\n",
    "    \"\"\"\n",
    "    assert np.array(a).shape == np.array(b).shape\n",
    "    idx = np.where((np.array(a) > np.array(b)) == True)\n",
    "    if idx[0].size == 0 and idx[1].size == 0:\n",
    "        return None\n",
    "    else:\n",
    "        return idx[0][0], idx[1][0]\n",
    "\n",
    "if __name__ == \"__main__\":\n",
    "    a = [[1, 2, 3],\n",
    "         [4, 5, 6],\n",
    "         [7, 8, 9],\n",
    "         [10, 11, 12]]\n",
    "\n",
    "    b = [[13, 14, 15],\n",
    "         [16, 17, 18],\n",
    "         [19, 2, 21],\n",
    "         [22, 23, 24]]\n",
    "\n",
    "    print(indices(a, b))"
   ]
  },
  {
   "cell_type": "markdown",
   "metadata": {},
   "source": [
    "Exercițiul 6"
   ]
  },
  {
   "cell_type": "code",
   "execution_count": 15,
   "metadata": {},
   "outputs": [
    {
     "name": "stdout",
     "output_type": "stream",
     "text": [
      "Matricea generata random cu valori  [18 16  8 15 18  3 15  6  7  3 13  9  5 16  7 12 12  4  1  0 11  5 11  8\n",
      " 19 17 13  3  8 19]\n",
      "Matricea de indecsi [[ 1  3  6 10 13 15 16 20 22 25 26]]\n"
     ]
    }
   ],
   "source": [
    "import numpy as np\n",
    "\n",
    "def OutsideMinMax(min, max, mat:np.array) -> np.array:\n",
    "    \"\"\"\n",
    "    Functia preia o matrice si doua cutpointuri, returneaza indexul elementelor\n",
    "    din afara intervalului descris de cele doua limite\n",
    "\n",
    "     Parameters\n",
    "    ----------\n",
    "    array : np.array\n",
    "        Matricea a carei elemente sunt utilizate.\n",
    "    min:\n",
    "        valoare primul cutpoint\n",
    "    max:\n",
    "        valoare al 2-lea cutpoint\n",
    "\n",
    "    Returns\n",
    "    -------\n",
    "    array: np.array\n",
    "        O matrice de indexuri pentru valorire din afara intervalului\n",
    "\n",
    "    \"\"\"\n",
    "    if max > min:\n",
    "        array_ouside_interval =np.array(np.where((mat > min) & (mat < max)))\n",
    "    else:\n",
    "        print(\"Intervalul selectat depaseste dimensiunea matricei\")\n",
    "    return array_ouside_interval\n",
    "\n",
    "\n",
    "matrice =np.arange(20)\n",
    "matrice_rand = np.random.choice(matrice,30)\n",
    "print(\"Matricea generata random cu valori \",matrice_rand)\n",
    "print(\"Matricea de indecsi\",OutsideMinMax(10,18,matrice_rand))"
   ]
  },
  {
   "cell_type": "markdown",
   "metadata": {},
   "source": [
    "Exercițiul 7"
   ]
  },
  {
   "cell_type": "code",
   "execution_count": 16,
   "metadata": {},
   "outputs": [
    {
     "name": "stdout",
     "output_type": "stream",
     "text": [
      "Rzultatul ciclului este... [  0 160   0 156 152]\n",
      "Rezultatul indexarii logice este...\n",
      "[152]\n"
     ]
    }
   ],
   "source": [
    "import numpy as np\n",
    "from copy import deepcopy\n",
    "\n",
    "def IndexareLogica(matrice:np.array) -> np.array:\n",
    "    \"\"\"\n",
    "    Foloseste indexarea logica si ciclarea pentru operatii cu elementele vectorului primit.\n",
    "\n",
    "    Parameters\n",
    "    ----------\n",
    "    matrice: np.array\n",
    "        Vectorul a caror elemente sunt modificate.\n",
    "\n",
    "    Returns\n",
    "    -------\n",
    "    np.array:\n",
    "        O matrice ce contine elementele modficate ale vectorului\n",
    "\n",
    "    \"\"\"\n",
    "    #pentru ciclare\n",
    "    matrice_ciclare =deepcopy(matrice)\n",
    "    for index,cifra in enumerate(matrice_ciclare):\n",
    "        while cifra<100:\n",
    "            cifra*=2\n",
    "        if cifra>150 and cifra<200:\n",
    "            matrice_ciclare[index]=cifra\n",
    "        else:\n",
    "            matrice_ciclare[index]=0\n",
    "    print(\"Rzultatul ciclului este...\",matrice_ciclare)\n",
    "\n",
    "    #pentru indexare logica\n",
    "    matrice[matrice <100]*=2\n",
    "    result=matrice[(matrice>150)&(matrice<200)]\n",
    "    print(\"Rezultatul indexarii logice este...\")\n",
    "    return result \n",
    "    \n",
    "a = np.array([230, 10, 284, 39, 76])\n",
    "print(IndexareLogica(a))"
   ]
  },
  {
   "cell_type": "markdown",
   "metadata": {},
   "source": [
    "Exercițiul 8"
   ]
  },
  {
   "cell_type": "code",
   "execution_count": 10,
   "metadata": {},
   "outputs": [
    {
     "name": "stdout",
     "output_type": "stream",
     "text": [
      "[  4   7   9 100 300 230   3]\n"
     ]
    }
   ],
   "source": [
    "import numpy as np\n",
    "\n",
    "def pair_max(a: np.array, b: np.array) -> np.array:\n",
    "    \"\"\"\n",
    "    Determină, pentru fiecare poziție, maximele dintre doi vectori np.array.\n",
    "    Afișează eroare dacă vectorii nu sunt de aceeași lungime.\n",
    "\n",
    "    Parameters\n",
    "    ----------\n",
    "    a : np.array\n",
    "        Vector cu numere.\n",
    "    b : np.array \n",
    "        Vector cu numere.\n",
    "\n",
    "    Returns\n",
    "    -------\n",
    "    np.array\n",
    "        Vector cu valorile maxime dintre a și b pentru fiecare poziție.\n",
    "        \n",
    "    \"\"\"\n",
    "    assert a.size == b.size\n",
    "    return np.maximum(a, b)\n",
    "\n",
    "if __name__ == \"__main__\":\n",
    "    a = np.array([3, 7, 9, 13, -10, 200, 3])\n",
    "    b = np.array([4, 5, -9, 100, 300, 230, 1])\n",
    "    print(pair_max(a, b))"
   ]
  },
  {
   "cell_type": "markdown",
   "metadata": {},
   "source": [
    "Exercițiul 9 (necesită iris.data)"
   ]
  },
  {
   "cell_type": "code",
   "execution_count": 11,
   "metadata": {},
   "outputs": [
    {
     "name": "stdout",
     "output_type": "stream",
     "text": [
      "LINES   :  [  1  75  81  87  93 103 124 128 142]\n",
      "COLUMNS :  [0 1 2]\n"
     ]
    }
   ],
   "source": [
    "import numpy as np\n",
    "\n",
    "def randomlySetNaN(mat: np.array) -> np.array:\n",
    "    \"\"\"\n",
    "    Setează valori NaN pe 10 poziții aleatoare.\n",
    "\n",
    "    Parameters\n",
    "    ----------\n",
    "    mat : np.array\n",
    "        Matricea care va fi modificată.\n",
    "\n",
    "    Returns\n",
    "    -------\n",
    "    np.array\n",
    "        Matricea inițială cu valorile modificate.\n",
    "        \n",
    "    \"\"\"\n",
    "    n, m = mat.shape\n",
    "    randomLines = np.random.randint(0, n - 1, size=10)\n",
    "    randomColumns = np.random.randint(0, m - 1, size=10)\n",
    "    randomCoords = randomLines, randomColumns\n",
    "    mat[randomCoords] = np.nan\n",
    "\n",
    "def findNaN(mat: np.array) -> tuple:\n",
    "    \"\"\"\n",
    "    Determină coordonatele la care se află valori NaN.\n",
    "\n",
    "    Parameters\n",
    "    ----------\n",
    "    mat : np.array\n",
    "        Matricea cu valori NaN care va fi analizată.\n",
    "\n",
    "    Returns\n",
    "    -------\n",
    "    tuple\n",
    "        Tuplu cu două np.array care conțin liniile, respectiv coloanele\n",
    "        la care se găsesc valori NaN.\n",
    "\n",
    "    \"\"\"\n",
    "    args = np.argwhere(np.isnan(mat))\n",
    "    lines = [arg[0] for arg in args]\n",
    "    columns = [arg[1] for arg in args]\n",
    "    return np.unique(lines), np.unique(columns)\n",
    "    \n",
    "\n",
    "if __name__ == \"__main__\":\n",
    "    mat = np.genfromtxt('iris.data', delimiter=',')\n",
    "    mat = np.delete(mat, -1, axis=1)\n",
    "    randomlySetNaN(mat)\n",
    "    lines, columns = findNaN(mat)\n",
    "    print(\"LINES   : \", lines)\n",
    "    print(\"COLUMNS : \", columns)"
   ]
  },
  {
   "cell_type": "markdown",
   "metadata": {},
   "source": [
    "Exercițiul 10"
   ]
  },
  {
   "cell_type": "code",
   "execution_count": 17,
   "metadata": {},
   "outputs": [
    {
     "name": "stdin",
     "output_type": "stream",
     "text": [
      "Introduceti numarul de valori minime pe care vreti sa il aflati 10\n",
      "Introduceti dimensiunea vectorului 20\n"
     ]
    },
    {
     "name": "stdout",
     "output_type": "stream",
     "text": [
      "20\n",
      "Va fi generat un vector cu valori din intervalul specificat.....\n",
      "Vectorul initial:  [-97 -96 -95 -68 -52 -38 -32 -18  -1   1  14  18  44  66  67  74  77  85\n",
      "  89]\n",
      "Cele 10\n",
      "valorile minime sunt... [-96 -97 -95 -68 -52 -38 -32 -18  -1   1]\n",
      "Indecsi lor sunt... [1 0 2 3 4 5 6 7 8 9]\n"
     ]
    },
    {
     "name": "stderr",
     "output_type": "stream",
     "text": [
      "/usr/local/Caskroom/miniconda/base/envs/unitbv/lib/python3.7/site-packages/ipykernel_launcher.py:30: DeprecationWarning: This function is deprecated. Please call randint(-100, 100 + 1) instead\n"
     ]
    }
   ],
   "source": [
    "import numpy as np\n",
    "def MinValues(vector, nr_valori_minime) ->tuple:\n",
    "    \"\"\"\n",
    "    MinValue determina k valori minime dint-un vector dat impreuna \n",
    "    cu pozitia lor\n",
    "    \n",
    "    Parametrii \n",
    "    --------\n",
    "    vector:np.array\n",
    "        vectorul de valori initiale\n",
    "\n",
    "    Returneaza\n",
    "    --------\n",
    "    matrice_valori:np.array ,matrice_indecsi:np.array\n",
    "        matricea volorilor minime si indecsi lor\n",
    "    \"\"\"\n",
    "\n",
    "    assert int(nr_valori_minime)<=len(vector)\n",
    "    print(\"Vectorul initial: \",vector)\n",
    "    result = np.argpartition(vector, nr_valori_minime)\n",
    "    return vector[result[:nr_valori_minime]],result[:nr_valori_minime]\n",
    "   \n",
    "\n",
    "k=int(input(\"Introduceti numarul de valori minime pe care vreti sa il aflati\"))\n",
    "dimensiune_vector = int(input(\"Introduceti dimensiunea vectorului\"))\n",
    "print(dimensiune_vector)\n",
    "\n",
    "print(\"Va fi generat un vector cu valori din intervalul specificat.....\")\n",
    "\n",
    "matrice_rand = np.unique(np.random.random_integers(-100,100,dimensiune_vector))\n",
    "matrice_result,matrice_indecsi=MinValues(matrice_rand,k)\n",
    "print(\"Cele\",k)\n",
    "print(\"valorile minime sunt...\",matrice_result)\n",
    "print(\"Indecsi lor sunt...\",matrice_indecsi)"
   ]
  },
  {
   "cell_type": "code",
   "execution_count": null,
   "metadata": {},
   "outputs": [],
   "source": []
  }
 ],
 "metadata": {
  "kernelspec": {
   "display_name": "Python 3",
   "language": "python",
   "name": "python3"
  },
  "language_info": {
   "codemirror_mode": {
    "name": "ipython",
    "version": 3
   },
   "file_extension": ".py",
   "mimetype": "text/x-python",
   "name": "python",
   "nbconvert_exporter": "python",
   "pygments_lexer": "ipython3",
   "version": "3.7.6"
  }
 },
 "nbformat": 4,
 "nbformat_minor": 4
}
