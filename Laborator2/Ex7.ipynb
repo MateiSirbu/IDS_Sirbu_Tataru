{
 "nbformat": 4,
 "nbformat_minor": 2,
 "metadata": {
  "language_info": {
   "name": "python",
   "codemirror_mode": {
    "name": "ipython",
    "version": 3
   },
   "version": "3.7.6-final"
  },
  "orig_nbformat": 2,
  "file_extension": ".py",
  "mimetype": "text/x-python",
  "name": "python",
  "npconvert_exporter": "python",
  "pygments_lexer": "ipython3",
  "version": 3,
  "kernelspec": {
   "name": "python37664bitmachinelearningconda8c7742b76b4e4cbab872fad78a1b21c2",
   "display_name": "Python 3.7.6 64-bit ('machine-learning': conda)"
  }
 },
 "cells": [
  {
   "cell_type": "code",
   "execution_count": 42,
   "metadata": {},
   "outputs": [
    {
     "name": "stdout",
     "output_type": "stream",
     "text": "Rzultatul ciclului este... [  0 160   0 156 152]\nRezultatul indexarii logice este...\n[152]\n"
    }
   ],
   "source": [
    "import numpy as np\n",
    "from copy import deepcopy\n",
    "\n",
    "def IndexareLogica(matrice:np.array) -> np.array:\n",
    "    \"\"\"\n",
    "    Foloseste indexarea logica si ciclarea pentru operatii cu elementele vectorului primit.\n",
    "\n",
    "    Parameters\n",
    "    ----------\n",
    "    matrice: np.array\n",
    "        Vectorul a caror elemente sunt modificate.\n",
    "\n",
    "    Returns\n",
    "    -------\n",
    "    np.array:\n",
    "        O matrice ce contine elementele modficate ale vectorului\n",
    "\n",
    "    \"\"\"\n",
    "    #pentru ciclare\n",
    "    matrice_ciclare =deepcopy(matrice)\n",
    "    for index,cifra in enumerate(matrice_ciclare):\n",
    "        while cifra<100:\n",
    "            cifra*=2\n",
    "        if cifra>150 and cifra<200:\n",
    "            matrice_ciclare[index]=cifra\n",
    "        else:\n",
    "            matrice_ciclare[index]=0\n",
    "    print(\"Rzultatul ciclului este...\",matrice_ciclare)\n",
    "\n",
    "    #pentru indexare logica\n",
    "    matrice[matrice <100]*=2\n",
    "    result=matrice[(matrice>150)&(matrice<200)]\n",
    "    print(\"Rezultatul indexarii logice este...\")\n",
    "    return result \n",
    "    \n",
    "a = np.array([230, 10, 284, 39, 76])\n",
    "print(IndexareLogica(a))"
   ]
  },
  {
   "cell_type": "code",
   "execution_count": null,
   "metadata": {},
   "outputs": [],
   "source": []
  }
 ]
}