{
 "nbformat": 4,
 "nbformat_minor": 2,
 "metadata": {
  "language_info": {
   "name": "python",
   "codemirror_mode": {
    "name": "ipython",
    "version": 3
   },
   "version": "3.7.6-final"
  },
  "orig_nbformat": 2,
  "file_extension": ".py",
  "mimetype": "text/x-python",
  "name": "python",
  "npconvert_exporter": "python",
  "pygments_lexer": "ipython3",
  "version": 3,
  "kernelspec": {
   "name": "python37664bitmachinelearningconda8c7742b76b4e4cbab872fad78a1b21c2",
   "display_name": "Python 3.7.6 64-bit ('machine-learning': conda)"
  }
 },
 "cells": [
  {
   "cell_type": "code",
   "execution_count": 40,
   "metadata": {},
   "outputs": [
    {
     "name": "stdout",
     "output_type": "stream",
     "text": "54\nVa fi generat un vector cu valori din intervalul specificat.....\nVectorul initial:  [-100  -82  -81  -69  -64  -58  -57  -55  -50  -40  -39  -36  -27  -24\n  -13  -12   -4    9   13   17   19   23   25   28   29   30   31   35\n   38   39   40   41   42   43   48   49   56   66   70   75   78   82\n   90   91   92   93   99]\nCele 6\nvalorile minime sunt... [ -82 -100  -81  -69  -64  -58]\nIndecsi lor sunt... [1 0 2 3 4 5]\n"
    }
   ],
   "source": [
    "import numpy as np\n",
    "def MinValues(vector, nr_valori_minime) ->tuple:\n",
    "    \"\"\"\n",
    "    MinValue determina k valori minime dint-un vector dat impreuna \n",
    "    cu pozitia lor\n",
    "    \n",
    "    Parametrii \n",
    "    --------\n",
    "    vector:np.array\n",
    "        vectorul de valori initiale\n",
    "\n",
    "    Returneaza\n",
    "    --------\n",
    "    matrice_valori:np.array ,matrice_indecsi:np.array\n",
    "        matricea volorilor minime si indecsi lor\n",
    "    \"\"\"\n",
    "\n",
    "    assert int(nr_valori_minime)<=len(vector)\n",
    "    print(\"Vectorul initial: \",vector)\n",
    "    result = np.argpartition(vector, nr_valori_minime)\n",
    "    return vector[result[:nr_valori_minime]],result[:nr_valori_minime]\n",
    "   \n",
    "\n",
    "k=int(input(\"Introduceti numarul de valori minime pe care vreti sa il aflati\"))\n",
    "dimensiune_vector = int(input(\"Introduceti dimensiunea vectorului\"))\n",
    "print(dimensiune_vector)\n",
    "\n",
    "print(\"Va fi generat un vector cu valori din intervalul specificat.....\")\n",
    "assert maxim>minim\n",
    "matrice_rand = np.unique(np.random.random_integers(-100,100,dimensiune_vector))\n",
    "matrice_result,matrice_indecsi=MinValues(matrice_rand,k)\n",
    "print(\"Cele\",k)\n",
    "print(\"valorile minime sunt...\",matrice_result)\n",
    "print(\"Indecsi lor sunt...\",matrice_indecsi)"
   ]
  },
  {
   "cell_type": "code",
   "execution_count": null,
   "metadata": {},
   "outputs": [],
   "source": []
  }
 ]
}