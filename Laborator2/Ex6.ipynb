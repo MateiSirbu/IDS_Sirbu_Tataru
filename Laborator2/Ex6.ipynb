{
 "nbformat": 4,
 "nbformat_minor": 2,
 "metadata": {
  "language_info": {
   "name": "python",
   "codemirror_mode": {
    "name": "ipython",
    "version": 3
   },
   "version": "3.7.6-final"
  },
  "orig_nbformat": 2,
  "file_extension": ".py",
  "mimetype": "text/x-python",
  "name": "python",
  "npconvert_exporter": "python",
  "pygments_lexer": "ipython3",
  "version": 3,
  "kernelspec": {
   "name": "python37664bitmachinelearningconda8c7742b76b4e4cbab872fad78a1b21c2",
   "display_name": "Python 3.7.6 64-bit ('machine-learning': conda)"
  }
 },
 "cells": [
  {
   "cell_type": "code",
   "execution_count": 3,
   "metadata": {},
   "outputs": [
    {
     "output_type": "stream",
     "name": "stdout",
     "text": "Matricea generata random cu valori  [15  2  2 11 12  4  8 16 13 19  2  8 17 16  4 15 10 10 10 10 17 10  7 15\n  1  2  7  4  8 13]\nMatricea de indecsi [[ 0  3  4  7  8 12 13 15 20 23 29]]\n"
    }
   ],
   "source": [
    "import numpy as np\n",
    "\n",
    "def OutsideMinMax(min, max, mat:np.array) -> np.array:\n",
    "    \"\"\"\n",
    "    Functia preia o matrice si doua cutpointuri, returneaza indexul elementelor\n",
    "    din afara intervalului descris de cele doua limite\n",
    "\n",
    "     Parameters\n",
    "    ----------\n",
    "    array : np.array\n",
    "        Matricea a carei elemente sunt utilizate.\n",
    "    min:\n",
    "        valoare primul cutpoint\n",
    "    max:\n",
    "        valoare al 2-lea cutpoint\n",
    "\n",
    "    Returns\n",
    "    -------\n",
    "    array: np.array\n",
    "        O matrice de indexuri pentru valorire din afara intervalului\n",
    "\n",
    "    \"\"\"\n",
    "    if max > min:\n",
    "        array_ouside_interval =np.array(np.where((mat > min) & (mat < max)))\n",
    "    else:\n",
    "        print(\"Intervalul selectat depaseste dimensiunea matricei\")\n",
    "    return array_ouside_interval\n",
    "\n",
    "\n",
    "matrice =np.arange(20)\n",
    "matrice_rand = np.random.choice(matrice,30)\n",
    "print(\"Matricea generata random cu valori \",matrice_rand)\n",
    "print(\"Matricea de indecsi\",OutsideMinMax(10,18,matrice_rand))\n",
    ""
   ]
  },
  {
   "cell_type": "code",
   "execution_count": null,
   "metadata": {},
   "outputs": [],
   "source": []
  }
 ]
}