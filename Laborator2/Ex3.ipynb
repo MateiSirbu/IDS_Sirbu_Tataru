{
 "nbformat": 4,
 "nbformat_minor": 2,
 "metadata": {
  "language_info": {
   "name": "python",
   "codemirror_mode": {
    "name": "ipython",
    "version": 3
   },
   "version": "3.7.6-final"
  },
  "orig_nbformat": 2,
  "file_extension": ".py",
  "mimetype": "text/x-python",
  "name": "python",
  "npconvert_exporter": "python",
  "pygments_lexer": "ipython3",
  "version": 3,
  "kernelspec": {
   "name": "python37664bitmachinelearningconda8c7742b76b4e4cbab872fad78a1b21c2",
   "display_name": "Python 3.7.6 64-bit ('machine-learning': conda)"
  }
 },
 "cells": [
  {
   "cell_type": "code",
   "execution_count": 2,
   "metadata": {},
   "outputs": [],
   "source": [
    "import numpy as np"
   ]
  },
  {
   "cell_type": "code",
   "execution_count": 41,
   "metadata": {},
   "outputs": [
    {
     "name": "stdout",
     "output_type": "stream",
     "text": "[[ 1 -4  3]] [[ 3 10  3  4]]\n"
    }
   ],
   "source": [
    "def MinrowMaxcol(*matrice:np.array) -> tuple:\n",
    "    '''\n",
    "    MinrowMaxCol determina minimul pe randuri, maximul pe coloane\n",
    "    \n",
    "    Parametrii \n",
    "    --------\n",
    "    matrice:np.array\n",
    "        matricea analizata\n",
    "\n",
    "    Returneaza\n",
    "    --------\n",
    "    tuple:\n",
    "        format din doua matrici\n",
    "    '''\n",
    "\n",
    "    minRow = np.min(matrice,axis=2)\n",
    "    maxCol = np.max(matrice, axis=1)\n",
    "    return minRow,maxCol\n",
    "\n",
    "array =np.array([[1,2,3,4],\n",
    "                [1,-2,3,-4],\n",
    "                [3,10,3,4]])\n",
    "arrayRowMin, arrayColMax = MinrowMaxcol(array)\n",
    "print(arrayRowMin,arrayColMax)\n",
    "\n"
   ]
  },
  {
   "cell_type": "code",
   "execution_count": null,
   "metadata": {},
   "outputs": [],
   "source": []
  }
 ]
}